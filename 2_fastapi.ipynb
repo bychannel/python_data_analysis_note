{
 "cells": [
  {
   "cell_type": "markdown",
   "metadata": {},
   "source": [
    "# FastAPI 学习笔记\n",
    "\n",
    "FastAPI 是一个现代、快速（高性能）的 Web 框架，用于构建 API，基于 Python 3.7+ 的类型提示。\n",
    "\n",
    "特点：\n",
    "- 自动交互式 API 文档（Swagger UI 和 ReDoc）\n",
    "- 高性能（接近 Node.js 和 Go）\n",
    "- 类型安全，自动校验请求/响应\n",
    "- 支持异步（async/await）\n",
    "- 与 Pydantic 深度集成"
   ]
  },
  {
   "cell_type": "markdown",
   "metadata": {},
   "source": [
    "## 安装 FastAPI\n",
    "\n",
    "```bash\n",
    "# 安装 FastAPI 和 Uvicorn（ASGI 服务器）\n",
    "pip install fastapi uvicorn[standard]\n",
    "```\n",
    "\n",
    "> 注意：在 Jupyter 中无法直接运行服务器，但可以编写代码逻辑。实际运行需在终端使用 `uvicorn main:app --reload`。"
   ]
  },
  {
   "cell_type": "code",
   "execution_count": null,
   "metadata": {},
   "source": [
    "# 示例 1: Hello World\n",
    "from fastapi import FastAPI\n",
    "\n",
    "app = FastAPI()\n",
    "\n",
    "@app.get(\"/\")\n",
    "def read_root():\n",
    "    return {\"message\": \"Hello, FastAPI!\"}\n",
    "\n",
    "# 运行方式（在终端）：\n",
    "# uvicorn main:app --reload\n",
    "# 访问 http://127.0.0.1:8000"
   ],
   "outputs": []
  },
  {
   "cell_type": "code",
   "execution_count": null,
   "metadata": {},
   "source": [
    "# 示例 2: 路径参数与查询参数\n",
    "from fastapi import FastAPI\n",
    "\n",
    "app = FastAPI()\n",
    "\n",
    "# 路径参数：/items/42\n",
    "@app.get(\"/items/{item_id}\")\n",
    "def read_item(item_id: int, q: str = None):\n",
    "    return {\"item_id\": item_id, \"q\": q}\n",
    "\n",
    "# 请求示例：\n",
    "# GET /items/5?q=hello\n",
    "# 返回：{\"item_id\": 5, \"q\": \"hello\"}"
   ],
   "outputs": []
  },
  {
   "cell_type": "code",
   "execution_count": null,
   "metadata": {},
   "source": [
    "# 示例 3: 请求体（使用 Pydantic 模型）\n",
    "from fastapi import FastAPI\n",
    "from pydantic import BaseModel\n",
    "\n",
    "app = FastAPI()\n",
    "\n",
    "class Item(BaseModel):\n",
    "    name: str\n",
    "    price: float\n",
    "    is_offer: bool = None\n",
    "\n",
    "@app.post(\"/items/\")\n",
    "def create_item(item: Item):\n",
    "    return {\"item_name\": item.name, \"price_with_tax\": item.price * 1.1}"
   ],
   "outputs": []
  },
  {
   "cell_type": "code",
   "execution_count": null,
   "metadata": {},
   "source": [
    "# 示例 4: 响应模型与状态码\n",
    "from fastapi import FastAPI, status\n",
    "from pydantic import BaseModel\n",
    "\n",
    "app = FastAPI()\n",
    "\n",
    "class UserIn(BaseModel):\n",
    "    username: str\n",
    "password: str\n",
    "email: str\n",
    "\n",
    "class UserOut(BaseModel):\n",
    "    username: str\n",
    "email: str\n",
    "\n",
    "@app.post(\"/user/\", response_model=UserOut, status_code=status.HTTP_201_CREATED)\n",
    "def create_user(user: UserIn):\n",
    "    return user  # password 不会出现在响应中（因 UserOut 不含 password）"
   ],
   "outputs": []
  },
  {
   "cell_type": "code",
   "execution_count": null,
   "metadata": {},
   "source": [
    "# 示例 5: 异步支持与简单依赖注入\n",
    "from fastapi import FastAPI, Depends\n",
    "\n",
    "app = FastAPI()\n",
    "\n",
    "async def common_parameters(q: str = None, skip: int = 0, limit: int = 10):\n",
    "    return {\"q\": q, \"skip\": skip, \"limit\": limit}\n",
    "\n",
    "@app.get(\"/items/\")\n",
    "async def read_items(commons: dict = Depends(common_parameters)):\n",
    "    return commons\n",
    "\n",
    "# FastAPI 自动注入依赖，适合处理数据库连接、认证等"
   ],
   "outputs": []
  },
  {
   "cell_type": "markdown",
   "metadata": {},
   "source": [
    "## 自动 API 文档\n",
    "\n",
    "启动应用后，访问：\n",
    "- **Swagger UI**: http://127.0.0.1:8000/docs\n",
    "- **ReDoc**: http://127.0.0.1:8000/redoc\n",
    "\n",
    "无需额外配置，文档自动生成，支持在线测试 API！"
   ]
  }
 ],
 "metadata": {
  "kernelspec": {
   "display_name": "Python 3",
   "language": "python",
   "name": "python3"
  },
  "language_info": {
   "name": "python",
   "version": "3.10.0"
  }
 },
 "nbformat": 4,
 "nbformat_minor": 5
}