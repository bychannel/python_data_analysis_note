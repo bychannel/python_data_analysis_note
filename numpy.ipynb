{
 "cells": [
  {
   "cell_type": "markdown",
   "metadata": {},
   "source": [
    "# NumPy 常用知识点汇总\n",
    "\n",
    "> 本 Notebook 系统整理了 NumPy 的核心概念、常用函数与典型用法，适合快速查阅与学习。"
   ]
  },
  {
   "cell_type": "code",
   "execution_count": null,
   "metadata": {},
   "outputs": [],
   "source": [
    "import numpy as np\n",
    "\n",
    "print(\"NumPy 版本:\", np.__version__)"
   ]
  },
  {
   "cell_type": "markdown",
   "metadata": {},
   "source": [
    "## 一、核心概念：`ndarray`\n",
    "\n",
    "- 同类型多维数组\n",
    "- 高效内存布局（C 连续）\n",
    "- 关键属性：`ndim`, `shape`, `size`, `dtype`, `itemsize`"
   ]
  },
  {
   "cell_type": "code",
   "execution_count": null,
   "metadata": {},
   "outputs": [],
   "source": [
    "# 创建一个二维数组\n",
    "arr = np.array([[1, 2, 3], [4, 5, 6]])\n",
    "\n",
    "print(\"数组:\\n\", arr)\n",
    "print(\"维度 (ndim):\", arr.ndim)\n",
    "print(\"形状 (shape):\", arr.shape)\n",
    "print(\"元素总数 (size):\", arr.size)\n",
    "print(\"数据类型 (dtype):\", arr.dtype)\n",
    "print(\"每个元素字节数 (itemsize):\", arr.itemsize)"
   ]
  },
  {
   "cell_type": "markdown",
   "metadata": {},
   "source": [
    "## 二、创建数组\n",
    "\n",
    "常用函数：`array`, `zeros`, `ones`, `full`, `eye`, `arange`, `linspace`, `random`"
   ]
  },
  {
   "cell_type": "code",
   "execution_count": null,
   "metadata": {},
   "outputs": [],
   "source": [
    "# 从列表创建\n",
    "a1 = np.array([1, 2, 3])\n",
    "print(\"array:\", a1)\n",
    "\n",
    "# 全零/全一/填充\n",
    "a2 = np.zeros((2, 3))\n",
    "a3 = np.ones((2, 3))\n",
    "a4 = np.full((2, 3), 7)\n",
    "print(\"\\nzeros:\\n\", a2)\n",
    "print(\"\\nones:\\n\", a3)\n",
    "print(\"\\nfull:\\n\", a4)\n",
    "\n",
    "# 单位矩阵\n",
    "a5 = np.eye(3)\n",
    "print(\"\\neye (单位矩阵):\\n\", a5)\n",
    "\n",
    "# 序列\n",
    "a6 = np.arange(0, 10, 2)        # [0, 2, 4, 6, 8]\n",
    "a7 = np.linspace(0, 1, 5)       # 均匀5个点\n",
    "print(\"\\narange:\", a6)\n",
    "print(\"linspace:\", a7)\n",
    "\n",
    "# 随机数\n",
    "a8 = np.random.rand(2, 3)       # [0,1) 均匀分布\n",
    "a9 = np.random.randn(2, 3)      # 标准正态分布\n",
    "a10 = np.random.randint(0, 10, size=(2, 3))  # 整数随机\n",
    "print(\"\\nrand (均匀):\\n\", a8)\n",
    "print(\"\\nrandn (正态):\\n\", a9)\n",
    "print(\"\\nrandint (整数):\\n\", a10)"
   ]
  },
  {
   "cell_type": "markdown",
   "metadata": {},
   "source": [
    "## 三、数组操作\n",
    "\n",
    "- 形状变换：`reshape`, `T`, `flatten`, `ravel`\n",
    "- 拼接：`concatenate`, `vstack`, `hstack`\n",
    "- 分割：`split`\n",
    "- 广播（自动对齐不同形状）"
   ]
  },
  {
   "cell_type": "code",
   "execution_count": null,
   "metadata": {},
   "outputs": [],
   "source": [
    "arr = np.array([[1, 2, 3], [4, 5, 6]])\n",
    "\n",
    "# 形状变换\n",
    "print(\"原数组:\\n\", arr)\n",
    "print(\"reshape(3,2):\\n\", arr.reshape(3, 2))\n",
    "print(\"转置 T:\\n\", arr.T)\n",
    "print(\"flatten (副本):\", arr.flatten())\n",
    "print(\"ravel (视图优先):\", arr.ravel())\n",
    "\n",
    "# 拼接\n",
    "a = np.array([[1], [2]])\n",
    "b = np.array([[3], [4]])\n",
    "print(\"\\nvstack:\\n\", np.vstack([a, b]))\n",
    "print(\"hstack:\\n\", np.hstack([a, b]))\n",
    "\n",
    "# 分割\n",
    "c = np.array([1, 2, 3, 4])\n",
    "print(\"\\nsplit into 2 parts:\", np.split(c, 2))"
   ]
  },
  {
   "cell_type": "markdown",
   "metadata": {},
   "source": [
    "## 四、数学与统计方法\n",
    "\n",
    "- 求和、均值、标准差等\n",
    "- 聚合可指定 `axis`（0: 列方向, 1: 行方向）\n",
    "- 矩阵乘法：`dot` 或 `@`"
   ]
  },
  {
   "cell_type": "code",
   "execution_count": null,
   "metadata": {},
   "outputs": [],
   "source": [
    "arr = np.array([[1, 2, 3], [4, 5, 6]])\n",
    "\n",
    "print(\"数组:\\n\", arr)\n",
    "print(\"sum (全):\", np.sum(arr))\n",
    "print(\"sum axis=0 (列和):\", np.sum(arr, axis=0))\n",
    "print(\"mean:\", np.mean(arr))\n",
    "print(\"std:\", np.std(arr))\n",
    "print(\"min:\", np.min(arr), \" | argmin:\", np.argmin(arr))\n",
    "print(\"max:\", np.max(arr), \" | argmax:\", np.argmax(arr))\n",
    "\n",
    "# 累积\n",
    "print(\"cumsum:\", np.cumsum(arr))\n",
    "\n",
    "# 矩阵乘法\n",
    "A = np.array([[1, 2], [3, 4]])\n",
    "B = np.array([[5], [6]])\n",
    "print(\"\\nA @ B =\\n\", A @ B)  # 或 np.dot(A, B)"
   ]
  },
  {
   "cell_type": "markdown",
   "metadata": {},
   "source": [
    "## 五、索引与切片\n",
    "\n",
    "- 基础索引：`arr[i, j]`\n",
    "- 切片：`arr[:, 1]`\n",
    "- 布尔索引：`arr[arr > 3]`\n",
    "- 花式索引：`arr[[0,1], [1,2]]`\n",
    "\n",
    "> ⚠️ 切片返回视图（修改影响原数组），布尔/花式索引返回副本。"
   ]
  },
  {
   "cell_type": "code",
   "execution_count": null,
   "metadata": {},
   "outputs": [],
   "source": [
    "arr = np.array([[1, 2, 3], [4, 5, 6]])\n",
    "\n",
    "# 基础索引与切片\n",
    "print(\"arr[0, 1]:\", arr[0, 1])\n",
    "print(\"第1列:\", arr[:, 1])\n",
    "print(\"第0行:\", arr[0, :])\n",
    "\n",
    "# 布尔索引\n",
    "print(\"大于3的元素:\", arr[arr > 3])\n",
    "\n",
    "# 花式索引\n",
    "print(\"取 (0,1) 和 (1,2):\", arr[[0, 1], [1, 2]])\n",
    "\n",
    "# 演示视图 vs 副本\n",
    "slice_view = arr[:, 1]\n",
    "slice_view[0] = 999\n",
    "print(\"修改切片后原数组:\\n\", arr)  # 会被改变！"
   ]
  },
  {
   "cell_type": "markdown",
   "metadata": {},
   "source": [
    "## 六、其他实用技巧\n",
    "\n",
    "- 类型转换：`astype`\n",
    "- 处理 NaN：`isnan`, `nan_to_num`\n",
    "- 保存/加载：`save`, `load`"
   ]
  },
  {
   "cell_type": "code",
   "execution_count": null,
   "metadata": {},
   "outputs": [],
   "source": [
    "# 类型转换\n",
    "arr_int = np.array([1, 2, 3])\n",
    "arr_float = arr_int.astype(np.float32)\n",
    "print(\"转为 float32:\", arr_float, arr_float.dtype)\n",
    "\n",
    "# NaN 处理\n",
    "arr_nan = np.array([1, np.nan, 3])\n",
    "print(\"含 NaN 数组:\", arr_nan)\n",
    "print(\"是否 NaN:\", np.isnan(arr_nan))\n",
    "print(\"替换 NaN 为 0:\", np.nan_to_num(arr_nan, nan=0.0))\n",
    "\n",
    "# 保存与加载（可选运行）\n",
    "# np.save('my_array.npy', arr_nan)\n",
    "# loaded = np.load('my_array.npy')\n",
    "# print(\"加载的数组:\", loaded)"
   ]
  },
  {
   "cell_type": "markdown",
   "metadata": {},
   "source": [
    "## ✅ 总结\n",
    "\n",
    "掌握以上内容，即可应对大多数 NumPy 使用场景，包括：\n",
    "- 数据预处理\n",
    "- 科学计算\n",
    "- 机器学习输入准备\n",
    "- 图像/信号处理基础\n",
    "\n",
    "> 提示：在 Jupyter 中按 `Shift + Tab` 可查看函数文档，`?np.sum` 查看详细帮助。"
   ]
  }
 ],
 "metadata": {
  "kernelspec": {
   "display_name": "Python 3",
   "language": "python",
   "name": "python3"
  },
  "language_info": {
   "name": "python",
   "version": "3.10.12"
  }
 },
 "nbformat": 4,
 "nbformat_minor": 4
}