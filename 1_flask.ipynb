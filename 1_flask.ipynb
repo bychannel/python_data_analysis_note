{
 "cells": [
  {
   "cell_type": "markdown",
   "metadata": {},
   "source": [
    "# Flask 学习笔记\n",
    "\n",
    "Flask 是一个轻量级的 Python Web 框架，适合快速开发小型 Web 应用和 API。本笔记涵盖 Flask 的核心知识点与实战示例。"
   ]
  },
  {
   "cell_type": "markdown",
   "metadata": {},
   "source": [
    "## 1. 安装 Flask"
   ]
  },
  {
   "cell_type": "code",
   "execution_count": null,
   "metadata": {},
   "outputs": [],
   "source": [
    "# 在终端中运行（非 Jupyter 内）：\n",
    "# pip install Flask"
   ]
  },
  {
   "cell_type": "markdown",
   "metadata": {},
   "source": [
    "## 2. 最简单的 Flask 应用"
   ]
  },
  {
   "cell_type": "code",
   "execution_count": null,
   "metadata": {},
   "outputs": [],
   "source": [
    "from flask import Flask\n",
    "\n",
    "app = Flask(__name__)\n",
    "\n",
    "@app.route('/')\n",
    "def hello():\n",
    "    return 'Hello, Flask!'\n",
    "\n",
    "# 注意：在 Jupyter 中运行 Flask 应用需特殊处理（见下方说明）"
   ]
  },
  {
   "cell_type": "markdown",
   "metadata": {},
   "source": [
    "### 在 Jupyter 中运行 Flask 的技巧\n",
    "\n",
    "由于 Flask 默认会阻塞主线程，直接在 Jupyter 中运行 app.run() 会导致内核卡住。推荐使用 `threading` 或在外部运行。以下是一个非阻塞示例（仅用于演示）："
   ]
  },
  {
   "cell_type": "code",
   "execution_count": null,
   "metadata": {},
   "outputs": [],
   "source": [
    "import threading\n",
    "from flask import Flask\n",
    "\n",
    "app = Flask(__name__)\n",
    "\n",
    "@app.route('/')\n",
    "def hello():\n",
    "    return '<h1>Welcome to Flask in Jupyter!</h1>'\n",
    "\n",
    "def run_app():\n",
    "    app.run(host='127.0.0.1', port=5000, debug=False)\n",
    "\n",
    "# 启动 Flask 应用在后台线程\n",
    "thread = threading.Thread(target=run_app, daemon=True)\n",
    "thread.start()\n",
    "\n",
    "print('Flask 应用已在后台启动，请访问 http://127.0.0.1:5000')"
   ]
  },
  {
   "cell_type": "markdown",
   "metadata": {},
   "source": [
    "## 3. 路由与动态 URL"
   ]
  },
  {
   "cell_type": "code",
   "execution_count": null,
   "metadata": {},
   "outputs": [],
   "source": [
    "@app.route('/user/<username>')\n",
    "def show_user_profile(username):\n",
    "    return f'User: {username}'\n",
    "\n",
    "@app.route('/post/<int:post_id>')\n",
    "def show_post(post_id):\n",
    "    return f'Post ID: {post_id}'"
   ]
  },
  {
   "cell_type": "markdown",
   "metadata": {},
   "source": [
    "## 4. 请求方法处理（GET / POST）"
   ]
  },
  {
   "cell_type": "code",
   "execution_count": null,
   "metadata": {},
   "outputs": [],
   "source": [
    "from flask import request\n",
    "\n",
    "@app.route('/login', methods=['GET', 'POST'])\n",
    "def login():\n",
    "    if request.method == 'POST':\n",
    "        return 'Login POST received'\n",
    "    else:\n",
    "        return '<form method=\"post\">Username: <input name=\"username\"><input type=\"submit\"></form>'"
   ]
  },
  {
   "cell_type": "markdown",
   "metadata": {},
   "source": [
    "## 5. 返回 JSON 数据（构建 API）"
   ]
  },
  {
   "cell_type": "code",
   "execution_count": null,
   "metadata": {},
   "outputs": [],
   "source": [
    "from flask import jsonify\n",
    "\n",
    "@app.route('/api/hello')\n",
    "def api_hello():\n",
    "    return jsonify({\"message\": \"Hello from Flask API!\", \"status\": \"success\"})"
   ]
  },
  {
   "cell_type": "markdown",
   "metadata": {},
   "source": [
    "## 6. 模板渲染（Jinja2）"
   ]
  },
  {
   "cell_type": "code",
   "execution_count": null,
   "metadata": {},
   "outputs": [],
   "source": [
    "from flask import render_template_string\n",
    "\n",
    "@app.route('/hello/<name>')\n",
    "def hello_name(name):\n",
    "    template = '''\n",
    "    <h1>Hello {{ name }}!</h1>\n",
    "    <p>Welcome to Flask templating.</p>\n",
    "    '''\n",
    "    return render_template_string(template, name=name)"
   ]
  },
  {
   "cell_type": "markdown",
   "metadata": {},
   "source": [
    "## 7. 静态文件与文件结构建议\n",
    "\n",
    "标准 Flask 项目结构：\n",
    "```\n",
    "my_flask_app/\n",
    "├── app.py\n",
    "├── static/\n",
    "│   └── style.css\n",
    "└── templates/\n",
    "    └── index.html\n",
    "```\n",
    "\n",
    "在 Jupyter 中难以模拟完整结构，建议在独立项目中实践。"
   ]
  },
  {
   "cell_type": "markdown",
   "metadata": {},
   "source": [
    "## 8. 错误处理"
   ]
  },
  {
   "cell_type": "code",
   "execution_count": null,
   "metadata": {},
   "outputs": [],
   "source": [
    "@app.errorhandler(404)\n",
    "def not_found(error):\n",
    "    return 'Page not found!', 404"
   ]
  },
  {
   "cell_type": "markdown",
   "metadata": {},
   "source": [
    "## 9. 使用环境变量与配置"
   ]
  },
  {
   "cell_type": "code",
   "execution_count": null,
   "metadata": {},
   "outputs": [],
   "source": [
    "app.config['DEBUG'] = True\n",
    "app.config.from_mapping(\n",
    "    SECRET_KEY='your-secret-key-here'\n",
    ")"
   ]
  },
  {
   "cell_type": "markdown",
   "metadata": {},
   "source": [
    "## 10. 小结\n",
    "\n",
    "- Flask 核心：应用对象、路由、请求/响应\n",
    "- 支持 RESTful API、模板渲染、静态文件\n",
    "- 轻量灵活，适合学习和快速原型开发\n",
    "\n",
    "建议下一步：结合数据库（如 SQLite + SQLAlchemy）构建完整 Web 应用。"
   ]
  }
 ],
 "metadata": {
  "kernelspec": {
   "display_name": "Python 3",
   "language": "python",
   "name": "python3"
  },
  "language_info": {
   "name": "python",
   "version": "3.10.0"
  }
 },
 "nbformat": 4,
 "nbformat_minor": 5
}