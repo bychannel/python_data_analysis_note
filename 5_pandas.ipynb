{
 "cells": [
  {
   "cell_type": "markdown",
   "metadata": {},
   "source": [
    "# 🐼 Pandas 完整学习手册（带实战代码）\n",
    "\n",
    "本 Notebook 系统梳理了 pandas 的核心知识点，每部分包含：\n",
    "- 概念说明\n",
    "- 实战代码（带详细注释）\n",
    "- 可直接运行验证\n",
    "\n",
    "建议逐节运行并修改参数加深理解。"
   ]
  },
  {
   "cell_type": "code",
   "execution_count": null,
   "metadata": {},
   "outputs": [],
   "source": [
    "# 导入必要库\n",
    "import pandas as pd\n",
    "import numpy as np\n",
    "\n",
    "# 设置显示选项（可选）\n",
    "pd.set_option('display.max_columns', None)\n",
    "pd.set_option('display.width', 1000)"
   ]
  },
  {
   "cell_type": "markdown",
   "metadata": {},
   "source": [
    "## 1. 基础入门：DataFrame 与 Series"
   ]
  },
  {
   "cell_type": "code",
   "execution_count": null,
   "metadata": {},
   "outputs": [],
   "source": [
    "# 创建 Series\n",
    "s = pd.Series([1, 3, 5, np.nan, 6])\n",
    "print(\"Series 示例:\")\n",
    "print(s)\n",
    "\n",
    "# 创建 DataFrame（从字典）\n",
    "df = pd.DataFrame({\n",
    "    'name': ['Alice', 'Bob', 'Charlie'],\n",
    "    'age': [25, 30, 35],\n",
    "    'city': ['NY', 'LA', 'Chicago']\n",
    "})\n",
    "print(\"\\nDataFrame 示例:\")\n",
    "print(df)\n",
    "\n",
    "# 查看基本信息\n",
    "print(\"\\n--- 基本信息 ---\")\n",
    "print(\"形状 (行, 列):\", df.shape)\n",
    "print(\"\\n前两行:\")\n",
    "print(df.head(2))\n",
    "print(\"\\n数据类型:\")\n",
    "print(df.dtypes)\n",
    "print(\"\\n统计摘要:\")\n",
    "print(df.describe(include='all'))"
   ]
  },
  {
   "cell_type": "markdown",
   "metadata": {},
   "source": [
    "## 2. 数据读取与写入"
   ]
  },
  {
   "cell_type": "code",
   "execution_count": null,
   "metadata": {},
   "outputs": [],
   "source": [
    "# 创建示例数据并保存为 CSV\n",
    "sample_data = pd.DataFrame({\n",
    "    'id': [1, 2, 3],\n",
    "    'value': [10.5, 20.1, 30.0],\n",
    "    'date': ['2023-01-01', '2023-01-02', '2023-01-03']\n",
    "})\n",
    "\n",
    "# 写入 CSV（不保存索引）\n",
    "sample_data.to_csv('sample.csv', index=False)\n",
    "\n",
    "# 读取 CSV（自动解析日期）\n",
    "df_read = pd.read_csv('sample.csv', parse_dates=['date'])\n",
    "print(\"从 CSV 读取的数据:\")\n",
    "print(df_read)\n",
    "print(\"\\n日期列类型:\", df_read['date'].dtype)"
   ]
  },
  {
   "cell_type": "markdown",
   "metadata": {},
   "source": [
    "## 3. 索引与选择数据"
   ]
  },
  {
   "cell_type": "code",
   "execution_count": null,
   "metadata": {},
   "outputs": [],
   "source": [
    "df = pd.DataFrame({\n",
    "    'A': [1, 2, 3, 4],\n",
    "    'B': ['x', 'y', 'z', 'w'],\n",
    "    'C': [10, 20, 30, 40]\n",
    "}, index=['row1', 'row2', 'row3', 'row4'])\n",
    "\n",
    "print(\"原始 DataFrame:\")\n",
    "print(df)\n",
    "\n",
    "# 列选择\n",
    "print(\"\\n选择列 A:\", df['A'].tolist())\n",
    "print(\"选择多列:\\n\", df[['A', 'C']])\n",
    "\n",
    "# 行选择：iloc（位置） vs loc（标签）\n",
    "print(\"\\n.iloc[0:2]（前两行）:\\n\", df.iloc[0:2])\n",
    "print(\"\\n.loc['row1':'row3']（标签切片）:\\n\", df.loc['row1':'row3'])\n",
    "\n",
    "# 布尔索引\n",
    "print(\"\\nA > 2 的行:\\n\", df[df['A'] > 2])\n",
    "\n",
    "# query 方法（更简洁）\n",
    "print(\"\\nquery('C > 25'):\\n\", df.query('C > 25'))"
   ]
  },
  {
   "cell_type": "markdown",
   "metadata": {},
   "source": [
    "## 4. 数据清洗"
   ]
  },
  {
   "cell_type": "code",
   "execution_count": null,
   "metadata": {},
   "outputs": [],
   "source": [
    "df_dirty = pd.DataFrame({\n",
    "    'name': ['Alice', 'Bob', None, 'David'],\n",
    "    'age': [25, np.nan, 30, 35],\n",
    "    'score': [85, 90, 90, None]\n",
    "})\n",
    "\n",
    "print(\"原始脏数据:\\n\", df_dirty)\n",
    "\n",
    "# 检查缺失值\n",
    "print(\"\\n缺失值统计:\\n\", df_dirty.isna().sum())\n",
    "\n",
    "# 填充缺失值（数值列用均值，字符列用众数）\n",
    "df_clean = df_dirty.copy()\n",
    "df_clean['age'].fillna(df_clean['age'].mean(), inplace=True)\n",
    "df_clean['name'].fillna(df_clean['name'].mode()[0], inplace=True)  # mode() 返回 Series\n",
    "df_clean['score'].fillna(-1, inplace=True)  # 用 -1 标记缺失\n",
    "\n",
    "print(\"\\n清洗后:\\n\", df_clean)\n",
    "\n",
    "# 去重\n",
    "df_dup = pd.DataFrame({'A': [1, 1, 2], 'B': ['x', 'x', 'y']})\n",
    "print(\"\\n去重前:\\n\", df_dup)\n",
    "print(\"去重后:\\n\", df_dup.drop_duplicates())"
   ]
  },
  {
   "cell_type": "markdown",
   "metadata": {},
   "source": [
    "## 5. 数据变换与新增列"
   ]
  },
  {
   "cell_type": "code",
   "execution_count": null,
   "metadata": {},
   "outputs": [],
   "source": [
    "df = pd.DataFrame({\n",
    "    'product': ['A', 'B', 'C'],\n",
    "    'price': [100, 150, 200],\n",
    "    'quantity': [10, 5, 8]\n",
    "})\n",
    "\n",
    "# 方法1：直接赋值\n",
    "df['total'] = df['price'] * df['quantity']\n",
    "\n",
    "# 方法2：使用 assign（链式操作友好）\n",
    "df = df.assign(discount=lambda x: x['total'] * 0.1)\n",
    "\n",
    "# 方法3：apply 自定义函数\n",
    "df['category'] = df['price'].apply(lambda p: 'High' if p > 150 else 'Low')\n",
    "\n",
    "# 条件赋值：np.where\n",
    "df['flag'] = np.where(df['quantity'] > 7, 'Popular', 'Normal')\n",
    "\n",
    "print(\"变换后 DataFrame:\\n\", df)"
   ]
  },
  {
   "cell_type": "markdown",
   "metadata": {},
   "source": [
    "## 6. 分组与聚合（GroupBy）"
   ]
  },
  {
   "cell_type": "code",
   "execution_count": null,
   "metadata": {},
   "outputs": [],
   "source": [
    "sales = pd.DataFrame({\n",
    "    'region': ['North', 'South', 'North', 'South', 'East'],\n",
    "    'product': ['A', 'A', 'B', 'B', 'A'],\n",
    "    'amount': [100, 150, 200, 120, 90]\n",
    "})\n",
    "\n",
    "print(\"销售数据:\\n\", sales)\n",
    "\n",
    "# 基础分组聚合\n",
    "print(\"\\n按 region 求和:\\n\", sales.groupby('region')['amount'].sum())\n",
    "\n",
    "# 多列聚合\n",
    "print(\"\\n多指标聚合:\\n\", sales.groupby('region').agg({\n",
    "    'amount': ['sum', 'mean'],\n",
    "    'product': 'count'\n",
    "}))\n",
    "\n",
    "# transform：广播回原 DataFrame\n",
    "sales['region_avg'] = sales.groupby('region')['amount'].transform('mean')\n",
    "print(\"\\n添加区域平均值后:\\n\", sales)"
   ]
  },
  {
   "cell_type": "markdown",
   "metadata": {},
   "source": [
    "## 7. 合并与连接"
   ]
  },
  {
   "cell_type": "code",
   "execution_count": null,
   "metadata": {},
   "outputs": [],
   "source": [
    "df1 = pd.DataFrame({'id': [1, 2, 3], 'name': ['Alice', 'Bob', 'Charlie']})\n",
    "df2 = pd.DataFrame({'id': [1, 2, 4], 'salary': [5000, 6000, 7000]})\n",
    "\n",
    "print(\"df1:\\n\", df1)\n",
    "print(\"\\ndf2:\\n\", df2)\n",
    "\n",
    "# 内连接（交集）\n",
    "inner = pd.merge(df1, df2, on='id', how='inner')\n",
    "print(\"\\n内连接:\\n\", inner)\n",
    "\n",
    "# 左连接（保留 df1 所有行）\n",
    "left = pd.merge(df1, df2, on='id', how='left')\n",
    "print(\"\\n左连接:\\n\", left)\n",
    "\n",
    "# 纵向拼接（concat）\n",
    "df3 = pd.DataFrame({'id': [4, 5], 'name': ['David', 'Eve']})\n",
    "concatenated = pd.concat([df1, df3], ignore_index=True)\n",
    "print(\"\\n纵向拼接:\\n\", concatenated)"
   ]
  },
  {
   "cell_type": "markdown",
   "metadata": {},
   "source": [
    "## 8. 重塑与透视表"
   ]
  },
  {
   "cell_type": "code",
   "execution_count": null,
   "metadata": {},
   "outputs": [],
   "source": [
    "# 宽表转长表（melt）\n",
    "wide = pd.DataFrame({\n",
    "    'product': ['A', 'B'],\n",
    "    'Q1': [100, 150],\n",
    "    'Q2': [120, 160]\n",
    "})\n",
    "long = wide.melt(id_vars='product', var_name='quarter', value_name='sales')\n",
    "print(\"宽表:\\n\", wide)\n",
    "print(\"\\n长表（melt）:\\n\", long)\n",
    "\n",
    "# 透视表（长表转宽表）\n",
    "pivot = long.pivot(index='product', columns='quarter', values='sales')\n",
    "print(\"\\n透视表:\\n\", pivot)\n",
    "\n",
    "# pivot_table 支持聚合（处理重复）\n",
    "long_dup = pd.concat([long, long])  # 制造重复\n",
    "pivot_agg = pd.pivot_table(long_dup, values='sales', index='product', columns='quarter', aggfunc='mean')\n",
    "print(\"\\n带聚合的透视表:\\n\", pivot_agg)"
   ]
  },
  {
   "cell_type": "markdown",
   "metadata": {},
   "source": [
    "## 9. 时间序列处理"
   ]
  },
  {
   "cell_type": "code",
   "execution_count": null,
   "metadata": {},
   "outputs": [],
   "source": [
    "# 创建时间序列数据\n",
    "dates = pd.date_range('2023-01-01', periods=10, freq='D')\n",
    "ts = pd.DataFrame({\n",
    "    'date': dates,\n",
    "    'value': np.random.randn(10).cumsum()\n",
    "})\n",
    "ts.set_index('date', inplace=True)\n",
    "\n",
    "print(\"时间序列数据:\\n\", ts.head())\n",
    "\n",
    "# 重采样（日 → 周）\n",
    "weekly = ts.resample('W').mean()\n",
    "print(\"\\n周均值:\\n\", weekly)\n",
    "\n",
    "# 移动窗口（7天滚动均值）\n",
    "ts['rolling_mean'] = ts['value'].rolling(window=3).mean()\n",
    "print(\"\\n带滚动均值:\\n\", ts.head())"
   ]
  },
  {
   "cell_type": "markdown",
   "metadata": {},
   "source": [
    "## 10. 链式操作与最佳实践"
   ]
  },
  {
   "cell_type": "code",
   "execution_count": null,
   "metadata": {},
   "outputs": [],
   "source": [
    "# 示例：链式数据处理\n",
    "result = (pd.DataFrame({\n",
    "            'category': ['A', 'B', 'A', 'B', 'A'],\n",
    "            'value': [10, 20, 30, 40, 50]\n",
    "        })\n",
    "        .query('value > 15')\n",
    "        .assign(ratio=lambda x: x['value'] / x['value'].sum())\n",
    "        .groupby('category')\n",
    "        .agg(total=('value', 'sum'), count=('value', 'size'))\n",
    "        .reset_index()\n",
    "       )\n",
    "\n",
    "print(\"链式操作结果:\\n\", result)"
   ]
  },
  {
   "cell_type": "markdown",
   "metadata": {},
   "source": [
    "## 🎉 完成！\n",
    "\n",
    "你现在拥有一份完整的 pandas 学习手册！\n",
    "\n",
    "**建议：**\n",
    "- 修改代码中的数据，观察输出变化\n",
    "- 尝试用自己的数据集实践\n",
    "- 将此 Notebook 作为日后参考"
   ]
  }
 ],
 "metadata": {
  "kernelspec": {
   "display_name": "Python 3",
   "language": "python",
   "name": "python3"
  },
  "language_info": {
   "name": "python",
   "version": "3.9.0"
  }
 },
 "nbformat": 4,
 "nbformat_minor": 4
}