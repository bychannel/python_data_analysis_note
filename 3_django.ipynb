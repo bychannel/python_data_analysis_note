{
 "cells": [
  {
   "cell_type": "markdown",
   "metadata": {},
   "source": [
    "# Django 学习笔记（基于廖雪峰 Python 教程风格）\n",
    "\n",
    "本 Notebook 汇总 Django 核心知识点与实战代码，适合初学者系统学习。"
   ]
  },
  {
   "cell_type": "markdown",
   "metadata": {},
   "source": [
    "## 1. Django 简介与安装"
   ]
  },
  {
   "cell_type": "code",
   "execution_count": null,
   "metadata": {},
   "source": [
    "# 安装 Django（在终端执行，非 Notebook 内）\n",
    "# pip install django\n",
    "\n",
    "# 验证安装\n",
    "import django\n",
    "print(django.get_version())"
   ],
   "outputs": []
  },
  {
   "cell_type": "markdown",
   "metadata": {},
   "source": [
    "## 2. 创建项目与应用"
   ]
  },
  {
   "cell_type": "code",
   "execution_count": null,
   "metadata": {},
   "source": [
    "# 在终端执行（非 Notebook）：\n",
    "# django-admin startproject mysite\n",
    "# cd mysite\n",
    "# python manage.py startapp blog\n",
    "\n",
    "# 项目结构示意：\n",
    "# mysite/\n",
    "# ├── manage.py\n",
    "# ├── mysite/\n",
    "# │   ├── __init__.py\n",
    "# │   ├── settings.py\n",
    "# │   ├── urls.py\n",
    "# │   └── wsgi.py\n",
    "# └── blog/\n",
    "#     ├── __init__.py\n",
    "#     ├── admin.py\n",
    "#     ├── apps.py\n",
    "#     ├── models.py\n",
    "#     ├── views.py\n",
    "#     └── ...\n",
    "\n",
    "# 注意：Jupyter 中无法直接运行 manage.py 命令，以下为模拟说明"
   ],
   "outputs": []
  },
  {
   "cell_type": "markdown",
   "metadata": {},
   "source": [
    "## 3. 路由（URLconf）配置"
   ]
  },
  {
   "cell_type": "code",
   "execution_count": null,
   "metadata": {},
   "source": [
    "# mysite/urls.py\n",
    "from django.contrib import admin\n",
    "from django.urls import path, include\n",
    "\n",
    "urlpatterns = [\n",
    "    path('admin/', admin.site.urls),\n",
    "    path('blog/', include('blog.urls')),  # 将 blog 应用的路由包含进来\n",
    "]"
   ],
   "outputs": []
  },
  {
   "cell_type": "code",
   "execution_count": null,
   "metadata": {},
   "source": [
    "# blog/urls.py（需手动创建）\n",
    "from django.urls import path\n",
    "from . import views\n",
    "\n",
    "urlpatterns = [\n",
    "    path('', views.index, name='index'),\n",
    "    path('post/<int:post_id>/', views.post_detail, name='post_detail'),\n",
    "]"
   ],
   "outputs": []
  },
  {
   "cell_type": "markdown",
   "metadata": {},
   "source": [
    "## 4. 视图（View）编写"
   ]
  },
  {
   "cell_type": "code",
   "execution_count": null,
   "metadata": {},
   "source": [
    "# blog/views.py\n",
    "from django.http import HttpResponse\n",
    "from django.shortcuts import render\n",
    "\n",
    "# 简单响应\n",
    "def index(request):\n",
    "    return HttpResponse(\"欢迎来到我的博客首页！\")\n",
    "\n",
    "# 使用模板渲染\n",
    "def post_detail(request, post_id):\n",
    "    # 模拟从数据库获取数据\n",
    "    context = {\n",
    "        'post_id': post_id,\n",
    "        'title': f'文章 {post_id}',\n",
    "        'content': f'这是第 {post_id} 篇文章的内容...'\n",
    "    }\n",
    "    return render(request, 'blog/post.html', context)"
   ],
   "outputs": []
  },
  {
   "cell_type": "markdown",
   "metadata": {},
   "source": [
    "## 5. 模板（Template）系统"
   ]
  },
  {
   "cell_type": "code",
   "execution_count": null,
   "metadata": {},
   "source": [
    "# templates/blog/post.html（需在项目中创建 templates 目录）\n",
    "<!-- \n",
    "<!DOCTYPE html>\n",
    "<html>\n",
    "<head>\n",
    "    <title>{{ title }}</title>\n",
    "</head>\n",
    "<body>\n",
    "    <h1>{{ title }}</h1>\n",
    "    <p>{{ content }}</p>\n",
    "    <p>文章ID: {{ post_id }}</p>\n",
    "</body>\n",
    "</html>\n",
    "-->\n",
    "\n",
    "# 注意：Django 模板无法在 Jupyter 中直接渲染，此处为代码示意"
   ],
   "outputs": []
  },
  {
   "cell_type": "markdown",
   "metadata": {},
   "source": [
    "## 6. 模型（Model）与 ORM"
   ]
  },
  {
   "cell_type": "code",
   "execution_count": null,
   "metadata": {},
   "source": [
    "# blog/models.py\n",
    "from django.db import models\n",
    "\n",
    "class Post(models.Model):\n",
    "    title = models.CharField(max_length=200)\n",
    "    content = models.TextField()\n",
    "    pub_date = models.DateTimeField(auto_now_add=True)\n",
    "\n",
    "    def __str__(self):\n",
    "        return self.title\n",
    "\n",
    "# 在终端执行迁移：\n",
    "# python manage.py makemigrations\n",
    "# python manage.py migrate"
   ],
   "outputs": []
  },
  {
   "cell_type": "markdown",
   "metadata": {},
   "source": [
    "## 7. Admin 后台管理"
   ]
  },
  {
   "cell_type": "code",
   "execution_count": null,
   "metadata": {},
   "source": [
    "# blog/admin.py\n",
    "from django.contrib import admin\n",
    "from .models import Post\n",
    "\n",
    "admin.site.register(Post)\n",
    "\n",
    "# 创建超级用户（终端执行）：\n",
    "# python manage.py createsuperuser"
   ],
   "outputs": []
  },
  {
   "cell_type": "markdown",
   "metadata": {},
   "source": [
    "## 8. 表单处理（简化版）"
   ]
  },
  {
   "cell_type": "code",
   "execution_count": null,
   "metadata": {},
   "source": [
    "# blog/forms.py\n",
    "from django import forms\n",
    "from .models import Post\n",
    "\n",
    "class PostForm(forms.ModelForm):\n",
    "    class Meta:\n",
    "        model = Post\n",
    "        fields = ['title', 'content']\n",
    "\n",
    "# views.py 中使用\n",
    "# def create_post(request):\n",
    "#     if request.method == 'POST':\n",
    "#         form = PostForm(request.POST)\n",
    "#         if form.is_valid():\n",
    "#             form.save()\n",
    "#             return redirect('index')\n",
    "#     else:\n",
    "#         form = PostForm()\n",
    "#     return render(request, 'blog/form.html', {'form': form})"
   ],
   "outputs": []
  },
  {
   "cell_type": "markdown",
   "metadata": {},
   "source": [
    "## 9. 静态文件（CSS/JS/图片）"
   ]
  },
  {
   "cell_type": "code",
   "execution_count": null,
   "metadata": {},
   "source": [
    "# settings.py 中默认已配置 STATIC_URL = '/static/'\n",
    "# 模板中引用：\n",
    "# {% load static %}\n",
    "# <link rel=\"stylesheet\" href=\"{% static 'blog/style.css' %}\">"
   ],
   "outputs": []
  },
  {
   "cell_type": "markdown",
   "metadata": {},
   "source": [
    "## 10. 实战：博客首页展示文章列表"
   ]
  },
  {
   "cell_type": "code",
   "execution_count": null,
   "metadata": {},
   "source": [
    "# views.py\n",
    "from .models import Post\n",
    "\n",
    "def index(request):\n",
    "    posts = Post.objects.all().order_by('-pub_date')\n",
    "    return render(request, 'blog/index.html', {'posts': posts})\n",
    "\n",
    "# templates/blog/index.html\n",
    "# <!--\n",
    "# {% for post in posts %}\n",
    "#     <h2>{{ post.title }}</h2>\n",
    "#     <p>{{ post.content|truncatewords:20 }}</p>\n",
    "#     <small>{{ post.pub_date }}</small>\n",
    "# {% endfor %}\n",
    "# -->"
   ],
   "outputs": []
  },
  {
   "cell_type": "markdown",
   "metadata": {},
   "source": [
    "## 📌 学习建议\n",
    "\n",
    "- 在本地创建真实 Django 项目练习\n",
    "- 使用 `python manage.py runserver` 启动开发服务器\n",
    "- 结合 Django 官方文档和廖雪峰教程深入学习\n",
    "- 后续可学习：用户认证、REST API（Django REST Framework）、部署等"
   ]
  }
 ],
 "metadata": {
  "kernelspec": {
   "display_name": "Python 3",
   "language": "python",
   "name": "python3"
  },
  "language_info": {
   "name": "python",
   "version": "3.10.0"
  }
 },
 "nbformat": 4,
 "nbformat_minor": 5
}