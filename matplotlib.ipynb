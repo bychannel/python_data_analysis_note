{
 "cells": [
  {
   "cell_type": "markdown",
   "metadata": {},
   "source": [
    "# Matplotlib 学习笔记\n",
    "\n",
    "本笔记系统归类了 Matplotlib 的核心知识点，并附带实战代码与详细注释，适合初学者到进阶用户。"
   ]
  },
  {
   "cell_type": "markdown",
   "metadata": {},
   "source": [
    "## 1. 基础绘图"
   ]
  },
  {
   "cell_type": "code",
   "execution_count": null,
   "metadata": {},
   "outputs": [],
   "source": [
    "import matplotlib.pyplot as plt\n",
    "import numpy as np\n",
    "\n",
    "# 生成示例数据\n",
    "x = np.linspace(0, 10, 100)\n",
    "y = np.sin(x)\n",
    "\n",
    "# 基础折线图\n",
    "plt.plot(x, y)\n",
    "plt.title('基础折线图')\n",
    "plt.xlabel('X 轴')\n",
    "plt.ylabel('Y 轴')\n",
    "plt.show()"
   ]
  },
  {
   "cell_type": "markdown",
   "metadata": {},
   "source": [
    "## 2. 多子图布局（subplot）"
   ]
  },
  {
   "cell_type": "code",
   "execution_count": null,
   "metadata": {},
   "outputs": [],
   "source": [
    "fig, axs = plt.subplots(2, 2, figsize=(10, 8))\n",
    "\n",
    "# 子图1\n",
    "axs[0, 0].plot(x, np.sin(x))\n",
    "axs[0, 0].set_title('sin(x)')\n",
    "\n",
    "# 子图2\n",
    "axs[0, 1].plot(x, np.cos(x), 'r--')\n",
    "axs[0, 1].set_title('cos(x)')\n",
    "\n",
    "# 子图3\n",
    "axs[1, 0].scatter(x[::10], np.tan(x[::10]), c='g', alpha=0.6)\n",
    "axs[1, 0].set_title('tan(x) 散点')\n",
    "axs[1, 0].set_ylim(-5, 5)\n",
    "\n",
    "# 子图4\n",
    "axs[1, 1].bar(['A', 'B', 'C'], [3, 7, 5])\n",
    "axs[1, 1].set_title('柱状图')\n",
    "\n",
    "plt.tight_layout()\n",
    "plt.show()"
   ]
  },
  {
   "cell_type": "markdown",
   "metadata": {},
   "source": [
    "## 3. 常见图表类型"
   ]
  },
  {
   "cell_type": "code",
   "execution_count": null,
   "metadata": {},
   "outputs": [],
   "source": [
    "# 折线图\n",
    "plt.figure(figsize=(6, 4))\n",
    "plt.plot([1, 2, 3, 4], [1, 4, 2, 3], label='折线')\n",
    "plt.legend()\n",
    "plt.title('折线图')\n",
    "plt.show()\n",
    "\n",
    "# 散点图\n",
    "plt.figure(figsize=(6, 4))\n",
    "plt.scatter([1, 2, 3, 4], [1, 4, 2, 3], c='red', s=100, alpha=0.7)\n",
    "plt.title('散点图')\n",
    "plt.show()\n",
    "\n",
    "# 柱状图\n",
    "plt.figure(figsize=(6, 4))\n",
    "plt.bar(['苹果', '香蕉', '橙子'], [10, 15, 7], color='skyblue')\n",
    "plt.title('柱状图')\n",
    "plt.show()\n",
    "\n",
    "# 直方图\n",
    "data = np.random.randn(1000)\n",
    "plt.figure(figsize=(6, 4))\n",
    "plt.hist(data, bins=30, color='purple', alpha=0.7)\n",
    "plt.title('直方图')\n",
    "plt.show()\n",
    "\n",
    "# 饼图\n",
    "plt.figure(figsize=(6, 6))\n",
    "plt.pie([30, 25, 20, 25], labels=['A', 'B', 'C', 'D'], autopct='%1.1f%%')\n",
    "plt.title('饼图')\n",
    "plt.show()"
   ]
  },
  {
   "cell_type": "markdown",
   "metadata": {},
   "source": [
    "## 4. 样式与美化"
   ]
  },
  {
   "cell_type": "code",
   "execution_count": null,
   "metadata": {},
   "outputs": [],
   "source": [
    "# 使用内置样式\n",
    "plt.style.use('seaborn-v0_8-darkgrid')  # 可选: 'ggplot', 'bmh', 'fivethirtyeight' 等\n",
    "\n",
    "x = np.linspace(0, 10, 100)\n",
    "plt.figure(figsize=(8, 5))\n",
    "plt.plot(x, np.sin(x), label='sin(x)', linewidth=2, color='tab:blue')\n",
    "plt.plot(x, np.cos(x), label='cos(x)', linestyle='--', linewidth=2, color='tab:orange')\n",
    "plt.title('样式美化示例', fontsize=16)\n",
    "plt.xlabel('X', fontsize=12)\n",
    "plt.ylabel('Y', fontsize=12)\n",
    "plt.legend(fontsize=12)\n",
    "plt.grid(True)\n",
    "plt.show()\n",
    "\n",
    "# 恢复默认样式\n",
    "plt.style.use('default')"
   ]
  },
  {
   "cell_type": "markdown",
   "metadata": {},
   "source": [
    "## 5. 高级功能：双Y轴、注释、文本"
   ]
  },
  {
   "cell_type": "code",
   "execution_count": null,
   "metadata": {},
   "outputs": [],
   "source": [
    "fig, ax1 = plt.subplots(figsize=(8, 5))\n",
    "\n",
    "x = np.linspace(0, 10, 100)\n",
    "y1 = np.exp(-x/3) * np.cos(2*np.pi*x)\n",
    "y2 = np.exp(-x/5)\n",
    "\n",
    "color = 'tab:red'\n",
    "ax1.set_xlabel('X')\n",
    "ax1.set_ylabel('振荡衰减', color=color)\n",
    "ax1.plot(x, y1, color=color)\n",
    "ax1.tick_params(axis='y', labelcolor=color)\n",
    "\n",
    "ax2 = ax1.twinx()  # 共享X轴\n",
    "color = 'tab:blue'\n",
    "ax2.set_ylabel('指数衰减', color=color)\n",
    "ax2.plot(x, y2, color=color, linestyle='--')\n",
    "ax2.tick_params(axis='y', labelcolor=color)\n",
    "\n",
    "plt.title('双Y轴示例')\n",
    "fig.tight_layout()\n",
    "plt.show()\n",
    "\n",
    "# 添加注释\n",
    "plt.figure(figsize=(8, 4))\n",
    "x = np.linspace(-2, 2, 100)\n",
    "y = x**2\n",
    "plt.plot(x, y)\n",
    "plt.annotate('最小值点', xy=(0, 0), xytext=(-1, 2),\n",
    "             arrowprops=dict(arrowstyle='->', color='red'))\n",
    "plt.title('添加注释')\n",
    "plt.show()"
   ]
  },
  {
   "cell_type": "markdown",
   "metadata": {},
   "source": [
    "## 6. 3D 绘图（需 mpl_toolkits）"
   ]
  },
  {
   "cell_type": "code",
   "execution_count": null,
   "metadata": {},
   "outputs": [],
   "source": [
    "from mpl_toolkits.mplot3d import Axes3D\n",
    "\n",
    "fig = plt.figure(figsize=(8, 6))\n",
    "ax = fig.add_subplot(111, projection='3d')\n",
    "\n",
    "x = np.linspace(-5, 5, 100)\n",
    "y = np.linspace(-5, 5, 100)\n",
    "X, Y = np.meshgrid(x, y)\n",
    "Z = np.sin(np.sqrt(X**2 + Y**2))\n",
    "\n",
    "ax.plot_surface(X, Y, Z, cmap='viridis', alpha=0.8)\n",
    "ax.set_title('3D 曲面图')\n",
    "ax.set_xlabel('X')\n",
    "ax.set_ylabel('Y')\n",
    "ax.set_zlabel('Z')\n",
    "plt.show()"
   ]
  },
  {
   "cell_type": "markdown",
   "metadata": {},
   "source": [
    "## 7. 保存图像"
   ]
  },
  {
   "cell_type": "code",
   "execution_count": null,
   "metadata": {},
   "outputs": [],
   "source": [
    "x = np.linspace(0, 10, 100)\n",
    "plt.figure(figsize=(6, 4))\n",
    "plt.plot(x, np.sin(x))\n",
    "plt.title('保存图像示例')\n",
    "\n",
    "# 保存为高分辨率 PNG\n",
    "plt.savefig('sin_plot.png', dpi=300, bbox_inches='tight')\n",
    "print('图像已保存为 sin_plot.png')\n",
    "\n",
    "plt.show()"
   ]
  },
  {
   "cell_type": "markdown",
   "metadata": {},
   "source": [
    "## 总结\n",
    "\n",
    "本笔记覆盖了 Matplotlib 的以下核心知识点：\n",
    "- 基础绘图（plot）\n",
    "- 子图布局（subplots）\n",
    "- 常见图表类型（折线、散点、柱状、直方图、饼图）\n",
    "- 样式美化（style、颜色、线型）\n",
    "- 高级功能（双Y轴、注释）\n",
    "- 3D 绘图\n",
    "- 图像保存\n",
    "\n",
    "建议动手运行每段代码，修改参数观察效果，加深理解。"
   ]
  }
 ],
 "metadata": {
  "kernelspec": {
   "display_name": "Python 3",
   "language": "python",
   "name": "python3"
  },
  "language_info": {
   "name": "python",
   "version": "3.10.0"
  }
 },
 "nbformat": 4,
 "nbformat_minor": 5
}